{
 "cells": [
  {
   "attachments": {},
   "cell_type": "markdown",
   "metadata": {},
   "source": [
    "# Leedcode 26. Remove Duplicates from Sorted Array"
   ]
  },
  {
   "cell_type": "code",
   "execution_count": 5,
   "metadata": {},
   "outputs": [],
   "source": [
    "def removeDuplicates(nums):\n",
    "    k = 1\n",
    "    last_seen = nums[0]\n",
    "    for i in range(1, len(nums)):\n",
    "        if nums[i] == last_seen:\n",
    "            pass \n",
    "        else:\n",
    "            last_seen = nums[i]\n",
    "            nums[k] = nums[i]\n",
    "            k += 1\n",
    "    \n",
    "    # print(nums)\n",
    "    # print(k)\n",
    "    return k"
   ]
  },
  {
   "cell_type": "code",
   "execution_count": 6,
   "metadata": {},
   "outputs": [
    {
     "data": {
      "text/plain": [
       "5"
      ]
     },
     "execution_count": 6,
     "metadata": {},
     "output_type": "execute_result"
    }
   ],
   "source": [
    "nums = [0,0,1,1,1,2,2,3,3,4]\n",
    "removeDuplicates(nums)"
   ]
  },
  {
   "cell_type": "code",
   "execution_count": 7,
   "metadata": {},
   "outputs": [
    {
     "data": {
      "text/plain": [
       "2"
      ]
     },
     "execution_count": 7,
     "metadata": {},
     "output_type": "execute_result"
    }
   ],
   "source": [
    "nums = [1,1,2]\n",
    "removeDuplicates(nums)"
   ]
  },
  {
   "attachments": {},
   "cell_type": "markdown",
   "metadata": {},
   "source": [
    "# Leadcode 27. Remove Element"
   ]
  },
  {
   "cell_type": "code",
   "execution_count": 13,
   "metadata": {},
   "outputs": [],
   "source": [
    "def removeElement(nums, val):\n",
    "    k = 0\n",
    "    for i in range(len(nums)):\n",
    "        if nums[i] == val:\n",
    "            continue\n",
    "        else:\n",
    "            nums[k] = nums[i]\n",
    "            k += 1\n",
    "    \n",
    "    # print(nums, k)\n",
    "    return k\n",
    "\n"
   ]
  },
  {
   "cell_type": "code",
   "execution_count": 15,
   "metadata": {},
   "outputs": [
    {
     "name": "stdout",
     "output_type": "stream",
     "text": [
      "[0, 1, 3, 0, 4, 0, 4, 2] 5\n"
     ]
    },
    {
     "data": {
      "text/plain": [
       "5"
      ]
     },
     "execution_count": 15,
     "metadata": {},
     "output_type": "execute_result"
    }
   ],
   "source": [
    "nums = [0,1,2,2,3,0,4,2]\n",
    "val = 2\n",
    "removeElement(nums, val)"
   ]
  },
  {
   "attachments": {},
   "cell_type": "markdown",
   "metadata": {},
   "source": [
    "# Leedcode 1929. Concatenation of Array"
   ]
  },
  {
   "cell_type": "code",
   "execution_count": 30,
   "metadata": {},
   "outputs": [],
   "source": [
    "def getConcatenation(nums):\n",
    "    n = len(nums)\n",
    "    ans = []\n",
    "    for i in range(2*n):\n",
    "        if i < n:\n",
    "            ans.append(nums[i])\n",
    "        else:\n",
    "            ans.append(nums[i-n])\n",
    "    \n",
    "    return ans"
   ]
  },
  {
   "cell_type": "code",
   "execution_count": 31,
   "metadata": {},
   "outputs": [
    {
     "data": {
      "text/plain": [
       "[1, 3, 2, 1, 1, 3, 2, 1]"
      ]
     },
     "execution_count": 31,
     "metadata": {},
     "output_type": "execute_result"
    }
   ],
   "source": [
    "nums = [1,3,2,1]\n",
    "getConcatenation(nums)"
   ]
  },
  {
   "attachments": {},
   "cell_type": "markdown",
   "metadata": {},
   "source": [
    "# 53. Maximum Subarray"
   ]
  },
  {
   "cell_type": "code",
   "execution_count": 119,
   "metadata": {},
   "outputs": [],
   "source": [
    "def maxSubArray(nums):\n",
    "\n",
    "    max_sum = nums[0]\n",
    "    current_sum = 0\n",
    "    print(\"i, current_sum, max_sum\")\n",
    "    for i in nums:\n",
    "        current_sum = max(current_sum + i , i)\n",
    "        max_sum = max(max_sum, current_sum)\n",
    "        print(i, current_sum, max_sum)\n",
    "        print(\"***********************\")\n",
    "\n",
    "    return max_sum\n"
   ]
  },
  {
   "cell_type": "code",
   "execution_count": 120,
   "metadata": {},
   "outputs": [
    {
     "name": "stdout",
     "output_type": "stream",
     "text": [
      "i, current_sum, max_sum\n",
      "-2 -2 -2\n",
      "***********************\n",
      "1 1 1\n",
      "***********************\n",
      "-3 -2 1\n",
      "***********************\n",
      "4 4 4\n",
      "***********************\n",
      "-1 3 4\n",
      "***********************\n",
      "2 5 5\n",
      "***********************\n",
      "1 6 6\n",
      "***********************\n",
      "-5 1 6\n",
      "***********************\n",
      "4 5 6\n",
      "***********************\n"
     ]
    },
    {
     "data": {
      "text/plain": [
       "6"
      ]
     },
     "execution_count": 120,
     "metadata": {},
     "output_type": "execute_result"
    }
   ],
   "source": [
    "nums = [-2,1,-3,4,-1,2,1,-5,4]\n",
    "maxSubArray(nums)"
   ]
  },
  {
   "cell_type": "code",
   "execution_count": 48,
   "metadata": {},
   "outputs": [
    {
     "data": {
      "text/plain": [
       "2"
      ]
     },
     "execution_count": 48,
     "metadata": {},
     "output_type": "execute_result"
    }
   ],
   "source": [
    "2%4"
   ]
  },
  {
   "attachments": {},
   "cell_type": "markdown",
   "metadata": {},
   "source": [
    "# 918. Maximum Sum Circular Subarray\n"
   ]
  },
  {
   "cell_type": "code",
   "execution_count": 117,
   "metadata": {},
   "outputs": [],
   "source": [
    "def maxSubarraySumCircular(nums):\n",
    "\n",
    "    curr_max = nums[0]\n",
    "    max_so_far = nums[0]\n",
    "\n",
    "    curr_min = nums[0]\n",
    "    min_so_far = nums[0]\n",
    "    nums_2 = nums[1::]\n",
    "    for i in range(len(nums_2)):\n",
    "        curr_max = max(curr_max + nums_2[i], nums_2[i]) \n",
    "        max_so_far = max(max_so_far, curr_max)\n",
    "\n",
    "        curr_min = min(curr_min + nums_2[i], nums_2[i])\n",
    "        min_so_far = min(min_so_far, curr_min)\n",
    "\n",
    "        print(curr_max, max_so_far, curr_min, min_so_far)\n",
    "\n",
    "    result = max(max_so_far, sum(nums)-min_so_far) \n",
    "\n",
    "    if result == 0:\n",
    "        return max(nums)\n",
    "    return result"
   ]
  },
  {
   "cell_type": "code",
   "execution_count": 118,
   "metadata": {},
   "outputs": [
    {
     "name": "stdout",
     "output_type": "stream",
     "text": [
      "0 8 -8 -8\n",
      "9 9 1 -8\n",
      "0 9 -9 -9\n",
      "10 10 1 -9\n",
      "-1 10 -11 -11\n",
      "12 12 1 -11\n"
     ]
    },
    {
     "data": {
      "text/plain": [
       "22"
      ]
     },
     "execution_count": 118,
     "metadata": {},
     "output_type": "execute_result"
    }
   ],
   "source": [
    "nums = [8, -8, 9, -9, 10, -11, 12]\n",
    "maxSubarraySumCircular(nums)"
   ]
  },
  {
   "cell_type": "code",
   "execution_count": 115,
   "metadata": {},
   "outputs": [
    {
     "data": {
      "text/plain": [
       "10"
      ]
     },
     "execution_count": 115,
     "metadata": {},
     "output_type": "execute_result"
    }
   ],
   "source": [
    "nums = [5, -3, 5]\n",
    "maxSubarraySumCircular(nums)"
   ]
  },
  {
   "cell_type": "code",
   "execution_count": 111,
   "metadata": {},
   "outputs": [
    {
     "data": {
      "text/plain": [
       "-1"
      ]
     },
     "execution_count": 111,
     "metadata": {},
     "output_type": "execute_result"
    }
   ],
   "source": [
    "nums = [-35, -3, -1]\n",
    "maxSubarraySumCircular(nums)"
   ]
  },
  {
   "cell_type": "code",
   "execution_count": 114,
   "metadata": {},
   "outputs": [
    {
     "data": {
      "text/plain": [
       "-2"
      ]
     },
     "execution_count": 114,
     "metadata": {},
     "output_type": "execute_result"
    }
   ],
   "source": [
    "nums = [-3,-2,-3]\n",
    "maxSubarraySumCircular(nums)"
   ]
  },
  {
   "cell_type": "code",
   "execution_count": 116,
   "metadata": {},
   "outputs": [
    {
     "data": {
      "text/plain": [
       "3"
      ]
     },
     "execution_count": 116,
     "metadata": {},
     "output_type": "execute_result"
    }
   ],
   "source": [
    "nums = [1,-2,3,-2]\n",
    "maxSubarraySumCircular(nums)"
   ]
  },
  {
   "cell_type": "code",
   "execution_count": 5,
   "metadata": {},
   "outputs": [
    {
     "name": "stdout",
     "output_type": "stream",
     "text": [
      "True\n",
      "False\n",
      "True\n",
      "False\n",
      "True\n"
     ]
    }
   ],
   "source": [
    "import string\n",
    "\n",
    "def checkIfPangram(sentence):\n",
    "  \n",
    "  letters_seen = set()\n",
    "\n",
    "  for s in sentence:\n",
    "    if s in string.ascii_letters:\n",
    "        if s.lower() not in letters_seen:\n",
    "            letters_seen.add(s.lower())\n",
    "              \n",
    "  return len(letters_seen) == 26\n",
    "\n",
    "\n",
    "# Test cases\n",
    "# Test case 1: \"TheQuickBrownFoxJumpsOverTheLazyDog\"\n",
    "# Expected output: True\n",
    "print(checkIfPangram(\"TheQuickBrownFoxJumpsOverTheLazyDog\"))\n",
    "\n",
    "# Test case 2: \"This is not a pangram\"\n",
    "# Expected output: False\n",
    "print(checkIfPangram(\"This is not a pangram\"))\n",
    "\n",
    "# Test case 3: \"abcdef ghijkl mnopqr stuvwxyz\"\n",
    "# Expected output: True\n",
    "print(checkIfPangram(\"abcdef ghijkl mnopqr stuvwxyz\"))\n",
    "\n",
    "# Test case 4: \"\"\n",
    "# Expected output: False\n",
    "print(checkIfPangram(\"\"))\n",
    "# Test case 5: \"abcdefghijklmnopqrstuvwxyzABCDEFGHIJKLMNOPQRSTUVWXYZ\"\n",
    "# Expected output: True\n",
    "print(checkIfPangram(\"abcdefghijklmnopqrstuvwxyzABCDEFGHIJKLMNOPQRSTUVWXYZ\"))\n"
   ]
  },
  {
   "cell_type": "code",
   "execution_count": null,
   "metadata": {},
   "outputs": [],
   "source": []
  }
 ],
 "metadata": {
  "kernelspec": {
   "display_name": "Python 3",
   "language": "python",
   "name": "python3"
  },
  "language_info": {
   "codemirror_mode": {
    "name": "ipython",
    "version": 3
   },
   "file_extension": ".py",
   "mimetype": "text/x-python",
   "name": "python",
   "nbconvert_exporter": "python",
   "pygments_lexer": "ipython3",
   "version": "3.9.13"
  },
  "orig_nbformat": 4,
  "vscode": {
   "interpreter": {
    "hash": "7b81e634707a2e4135bf890680c8c35ed880de27576c789347cd579c6a5c7d0d"
   }
  }
 },
 "nbformat": 4,
 "nbformat_minor": 2
}
