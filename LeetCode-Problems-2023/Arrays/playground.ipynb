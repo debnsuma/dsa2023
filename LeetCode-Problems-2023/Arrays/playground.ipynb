{
 "cells": [
  {
   "attachments": {},
   "cell_type": "markdown",
   "metadata": {},
   "source": [
    "# Leedcode 26. Remove Duplicates from Sorted Array"
   ]
  },
  {
   "cell_type": "code",
   "execution_count": 5,
   "metadata": {},
   "outputs": [],
   "source": [
    "def removeDuplicates(nums):\n",
    "    k = 1\n",
    "    last_seen = nums[0]\n",
    "    for i in range(1, len(nums)):\n",
    "        if nums[i] == last_seen:\n",
    "            pass \n",
    "        else:\n",
    "            last_seen = nums[i]\n",
    "            nums[k] = nums[i]\n",
    "            k += 1\n",
    "    \n",
    "    # print(nums)\n",
    "    # print(k)\n",
    "    return k"
   ]
  },
  {
   "cell_type": "code",
   "execution_count": 6,
   "metadata": {},
   "outputs": [
    {
     "data": {
      "text/plain": [
       "5"
      ]
     },
     "execution_count": 6,
     "metadata": {},
     "output_type": "execute_result"
    }
   ],
   "source": [
    "nums = [0,0,1,1,1,2,2,3,3,4]\n",
    "removeDuplicates(nums)"
   ]
  },
  {
   "cell_type": "code",
   "execution_count": 7,
   "metadata": {},
   "outputs": [
    {
     "data": {
      "text/plain": [
       "2"
      ]
     },
     "execution_count": 7,
     "metadata": {},
     "output_type": "execute_result"
    }
   ],
   "source": [
    "nums = [1,1,2]\n",
    "removeDuplicates(nums)"
   ]
  },
  {
   "attachments": {},
   "cell_type": "markdown",
   "metadata": {},
   "source": [
    "# Leadcode 27. Remove Element"
   ]
  },
  {
   "cell_type": "code",
   "execution_count": 13,
   "metadata": {},
   "outputs": [],
   "source": [
    "def removeElement(nums, val):\n",
    "    k = 0\n",
    "    for i in range(len(nums)):\n",
    "        if nums[i] == val:\n",
    "            continue\n",
    "        else:\n",
    "            nums[k] = nums[i]\n",
    "            k += 1\n",
    "    \n",
    "    # print(nums, k)\n",
    "    return k\n",
    "\n"
   ]
  },
  {
   "cell_type": "code",
   "execution_count": 15,
   "metadata": {},
   "outputs": [
    {
     "name": "stdout",
     "output_type": "stream",
     "text": [
      "[0, 1, 3, 0, 4, 0, 4, 2] 5\n"
     ]
    },
    {
     "data": {
      "text/plain": [
       "5"
      ]
     },
     "execution_count": 15,
     "metadata": {},
     "output_type": "execute_result"
    }
   ],
   "source": [
    "nums = [0,1,2,2,3,0,4,2]\n",
    "val = 2\n",
    "removeElement(nums, val)"
   ]
  },
  {
   "attachments": {},
   "cell_type": "markdown",
   "metadata": {},
   "source": [
    "# Leedcode 1929. Concatenation of Array"
   ]
  },
  {
   "cell_type": "code",
   "execution_count": 30,
   "metadata": {},
   "outputs": [],
   "source": [
    "def getConcatenation(nums):\n",
    "    n = len(nums)\n",
    "    ans = []\n",
    "    for i in range(2*n):\n",
    "        if i < n:\n",
    "            ans.append(nums[i])\n",
    "        else:\n",
    "            ans.append(nums[i-n])\n",
    "    \n",
    "    return ans"
   ]
  },
  {
   "cell_type": "code",
   "execution_count": 31,
   "metadata": {},
   "outputs": [
    {
     "data": {
      "text/plain": [
       "[1, 3, 2, 1, 1, 3, 2, 1]"
      ]
     },
     "execution_count": 31,
     "metadata": {},
     "output_type": "execute_result"
    }
   ],
   "source": [
    "nums = [1,3,2,1]\n",
    "getConcatenation(nums)"
   ]
  },
  {
   "attachments": {},
   "cell_type": "markdown",
   "metadata": {},
   "source": [
    "# 53. Maximum Subarray"
   ]
  },
  {
   "cell_type": "code",
   "execution_count": 119,
   "metadata": {},
   "outputs": [],
   "source": [
    "def maxSubArray(nums):\n",
    "\n",
    "    max_sum = nums[0]\n",
    "    current_sum = 0\n",
    "    print(\"i, current_sum, max_sum\")\n",
    "    for i in nums:\n",
    "        current_sum = max(current_sum + i , i)\n",
    "        max_sum = max(max_sum, current_sum)\n",
    "        print(i, current_sum, max_sum)\n",
    "        print(\"***********************\")\n",
    "\n",
    "    return max_sum\n"
   ]
  },
  {
   "cell_type": "code",
   "execution_count": 120,
   "metadata": {},
   "outputs": [
    {
     "name": "stdout",
     "output_type": "stream",
     "text": [
      "i, current_sum, max_sum\n",
      "-2 -2 -2\n",
      "***********************\n",
      "1 1 1\n",
      "***********************\n",
      "-3 -2 1\n",
      "***********************\n",
      "4 4 4\n",
      "***********************\n",
      "-1 3 4\n",
      "***********************\n",
      "2 5 5\n",
      "***********************\n",
      "1 6 6\n",
      "***********************\n",
      "-5 1 6\n",
      "***********************\n",
      "4 5 6\n",
      "***********************\n"
     ]
    },
    {
     "data": {
      "text/plain": [
       "6"
      ]
     },
     "execution_count": 120,
     "metadata": {},
     "output_type": "execute_result"
    }
   ],
   "source": [
    "nums = [-2,1,-3,4,-1,2,1,-5,4]\n",
    "maxSubArray(nums)"
   ]
  },
  {
   "cell_type": "code",
   "execution_count": 48,
   "metadata": {},
   "outputs": [
    {
     "data": {
      "text/plain": [
       "2"
      ]
     },
     "execution_count": 48,
     "metadata": {},
     "output_type": "execute_result"
    }
   ],
   "source": [
    "2%4"
   ]
  },
  {
   "attachments": {},
   "cell_type": "markdown",
   "metadata": {},
   "source": [
    "# 918. Maximum Sum Circular Subarray\n"
   ]
  },
  {
   "cell_type": "code",
   "execution_count": 117,
   "metadata": {},
   "outputs": [],
   "source": [
    "def maxSubarraySumCircular(nums):\n",
    "\n",
    "    curr_max = nums[0]\n",
    "    max_so_far = nums[0]\n",
    "\n",
    "    curr_min = nums[0]\n",
    "    min_so_far = nums[0]\n",
    "    nums_2 = nums[1::]\n",
    "    for i in range(len(nums_2)):\n",
    "        curr_max = max(curr_max + nums_2[i], nums_2[i]) \n",
    "        max_so_far = max(max_so_far, curr_max)\n",
    "\n",
    "        curr_min = min(curr_min + nums_2[i], nums_2[i])\n",
    "        min_so_far = min(min_so_far, curr_min)\n",
    "\n",
    "        print(curr_max, max_so_far, curr_min, min_so_far)\n",
    "\n",
    "    result = max(max_so_far, sum(nums)-min_so_far) \n",
    "\n",
    "    if result == 0:\n",
    "        return max(nums)\n",
    "    return result"
   ]
  },
  {
   "cell_type": "code",
   "execution_count": 118,
   "metadata": {},
   "outputs": [
    {
     "name": "stdout",
     "output_type": "stream",
     "text": [
      "0 8 -8 -8\n",
      "9 9 1 -8\n",
      "0 9 -9 -9\n",
      "10 10 1 -9\n",
      "-1 10 -11 -11\n",
      "12 12 1 -11\n"
     ]
    },
    {
     "data": {
      "text/plain": [
       "22"
      ]
     },
     "execution_count": 118,
     "metadata": {},
     "output_type": "execute_result"
    }
   ],
   "source": [
    "nums = [8, -8, 9, -9, 10, -11, 12]\n",
    "maxSubarraySumCircular(nums)"
   ]
  },
  {
   "cell_type": "code",
   "execution_count": 115,
   "metadata": {},
   "outputs": [
    {
     "data": {
      "text/plain": [
       "10"
      ]
     },
     "execution_count": 115,
     "metadata": {},
     "output_type": "execute_result"
    }
   ],
   "source": [
    "nums = [5, -3, 5]\n",
    "maxSubarraySumCircular(nums)"
   ]
  },
  {
   "cell_type": "code",
   "execution_count": 111,
   "metadata": {},
   "outputs": [
    {
     "data": {
      "text/plain": [
       "-1"
      ]
     },
     "execution_count": 111,
     "metadata": {},
     "output_type": "execute_result"
    }
   ],
   "source": [
    "nums = [-35, -3, -1]\n",
    "maxSubarraySumCircular(nums)"
   ]
  },
  {
   "cell_type": "code",
   "execution_count": 114,
   "metadata": {},
   "outputs": [
    {
     "data": {
      "text/plain": [
       "-2"
      ]
     },
     "execution_count": 114,
     "metadata": {},
     "output_type": "execute_result"
    }
   ],
   "source": [
    "nums = [-3,-2,-3]\n",
    "maxSubarraySumCircular(nums)"
   ]
  },
  {
   "cell_type": "code",
   "execution_count": 116,
   "metadata": {},
   "outputs": [
    {
     "data": {
      "text/plain": [
       "3"
      ]
     },
     "execution_count": 116,
     "metadata": {},
     "output_type": "execute_result"
    }
   ],
   "source": [
    "nums = [1,-2,3,-2]\n",
    "maxSubarraySumCircular(nums)"
   ]
  },
  {
   "cell_type": "code",
   "execution_count": 5,
   "metadata": {},
   "outputs": [
    {
     "name": "stdout",
     "output_type": "stream",
     "text": [
      "True\n",
      "False\n",
      "True\n",
      "False\n",
      "True\n"
     ]
    }
   ],
   "source": [
    "import string\n",
    "\n",
    "def checkIfPangram(sentence):\n",
    "  \n",
    "  letters_seen = set()\n",
    "\n",
    "  for s in sentence:\n",
    "    if s in string.ascii_letters:\n",
    "        if s.lower() not in letters_seen:\n",
    "            letters_seen.add(s.lower())\n",
    "              \n",
    "  return len(letters_seen) == 26\n",
    "\n",
    "\n",
    "# Test cases\n",
    "# Test case 1: \"TheQuickBrownFoxJumpsOverTheLazyDog\"\n",
    "# Expected output: True\n",
    "print(checkIfPangram(\"TheQuickBrownFoxJumpsOverTheLazyDog\"))\n",
    "\n",
    "# Test case 2: \"This is not a pangram\"\n",
    "# Expected output: False\n",
    "print(checkIfPangram(\"This is not a pangram\"))\n",
    "\n",
    "# Test case 3: \"abcdef ghijkl mnopqr stuvwxyz\"\n",
    "# Expected output: True\n",
    "print(checkIfPangram(\"abcdef ghijkl mnopqr stuvwxyz\"))\n",
    "\n",
    "# Test case 4: \"\"\n",
    "# Expected output: False\n",
    "print(checkIfPangram(\"\"))\n",
    "# Test case 5: \"abcdefghijklmnopqrstuvwxyzABCDEFGHIJKLMNOPQRSTUVWXYZ\"\n",
    "# Expected output: True\n",
    "print(checkIfPangram(\"abcdefghijklmnopqrstuvwxyzABCDEFGHIJKLMNOPQRSTUVWXYZ\"))\n"
   ]
  },
  {
   "cell_type": "code",
   "execution_count": 3,
   "metadata": {},
   "outputs": [],
   "source": [
    "class Solution:\n",
    "  def reverseVowels(self, s: str) -> str:\n",
    "    left = 0 \n",
    "    right = len(s) - 1\n",
    "    vowels = 'aeiou'\n",
    "    result = list(s)\n",
    "    \n",
    "    while left < right:\n",
    "      if s[left].lower() in vowels:\n",
    "        if s[right].lower() in vowels:\n",
    "          result[left], result[right] = result[right], result[left]\n",
    "          left += 1 \n",
    "          right -= 1\n",
    "        else:\n",
    "          right -= 1\n",
    "      else:\n",
    "        left += 1\n",
    "          \n",
    "    return ''.join(result)\n",
    "\n",
    "    \n",
    "\n"
   ]
  },
  {
   "cell_type": "code",
   "execution_count": 4,
   "metadata": {},
   "outputs": [
    {
     "name": "stdout",
     "output_type": "stream",
     "text": [
      "Test Case 1:  True\n",
      "Test Case 2:  True\n",
      "Test Case 3:  True\n",
      "Test Case 4:  True\n",
      "Test Case 5:  True\n"
     ]
    }
   ],
   "source": [
    "\n",
    "if __name__ == \"__main__\":\n",
    "  solution = Solution()\n",
    "\n",
    "  s1 = \"hello\"\n",
    "  expected_output1 = \"holle\"\n",
    "  actual_output1 = solution.reverseVowels(s1)\n",
    "  print(\"Test Case 1: \", expected_output1 == actual_output1)\n",
    "\n",
    "  s2 = \"DesignGUrus\"\n",
    "  expected_output2 = \"DusUgnGires\"\n",
    "  actual_output2 = solution.reverseVowels(s2)\n",
    "  print(\"Test Case 2: \", expected_output2 == actual_output2)\n",
    "\n",
    "  s3 = \"AEIOU\"\n",
    "  expected_output3 = \"UOIEA\"\n",
    "  actual_output3 = solution.reverseVowels(s3)\n",
    "  print(\"Test Case 3: \", expected_output3 == actual_output3)\n",
    "\n",
    "  s4 = \"aA\"\n",
    "  expected_output4 = \"Aa\"\n",
    "  actual_output4 = solution.reverseVowels(s4)\n",
    "  print(\"Test Case 4: \", expected_output4 == actual_output4)\n",
    "\n",
    "  s5 = \"\"\n",
    "  expected_output5 = \"\"\n",
    "  actual_output5 = solution.reverseVowels(s5)\n",
    "  print(\"Test Case 5: \", expected_output5 == actual_output5)"
   ]
  },
  {
   "cell_type": "code",
   "execution_count": 14,
   "metadata": {},
   "outputs": [],
   "source": [
    "import string\n",
    "\n",
    "def is_palindrome(s: str) -> bool:\n",
    "    \n",
    "    s2 = []\n",
    "    for i in s:\n",
    "        if i.isalpha():\n",
    "            s2.append(i.lower())\n",
    "                \n",
    "    left = 0 \n",
    "    right = len(s2) - 1\n",
    "    while left < right:\n",
    "        if s2[left] == s2[right]:\n",
    "            left += 1\n",
    "            right -= 1\n",
    "        else:\n",
    "            return False\n",
    "    \n",
    "    return True\n",
    "            "
   ]
  },
  {
   "cell_type": "code",
   "execution_count": 15,
   "metadata": {},
   "outputs": [
    {
     "name": "stdout",
     "output_type": "stream",
     "text": [
      "amanaplanacanalpanama\n"
     ]
    },
    {
     "data": {
      "text/plain": [
       "True"
      ]
     },
     "execution_count": 15,
     "metadata": {},
     "output_type": "execute_result"
    }
   ],
   "source": [
    "is_palindrome(\"A man, a plan, a canal, Panama!\")"
   ]
  },
  {
   "cell_type": "code",
   "execution_count": null,
   "metadata": {},
   "outputs": [],
   "source": []
  },
  {
   "cell_type": "code",
   "execution_count": 16,
   "metadata": {},
   "outputs": [
    {
     "name": "stdout",
     "output_type": "stream",
     "text": [
      "amanaplanacanalpanama\n",
      "True\n",
      "raceacar\n",
      "False\n",
      "wasitacaroracatisaw\n",
      "True\n",
      "madaminedenimadam\n",
      "True\n",
      "\n",
      "True\n"
     ]
    }
   ],
   "source": [
    "   \n",
    "\n",
    "if __name__ == \"__main__\":\n",
    "    # Test case 1: \"A man, a plan, a canal, Panama!\"\n",
    "    # Expected output: True\n",
    "    print(is_palindrome(\"A man, a plan, a canal, Panama!\"))\n",
    "\n",
    "    # Test case 2: \"race a car\"\n",
    "    # Expected output: False\n",
    "    print(is_palindrome(\"race a car\"))\n",
    "\n",
    "    # Test case 3: \"Was it a car or a cat I saw?\"\n",
    "    # Expected output: True\n",
    "    print(is_palindrome(\"Was it a car or a cat I saw?\"))\n",
    "\n",
    "    # Test case 4: \"Madam, in Eden, I'm Adam.\"\n",
    "    # Expected output: True\n",
    "    print(is_palindrome(\"Madam, in Eden, I'm Adam.\"))\n",
    "\n",
    "    # Test case 5: \"empty string\"\n",
    "    # Expected output: True\n",
    "    print(is_palindrome(\"\"))\n"
   ]
  },
  {
   "cell_type": "code",
   "execution_count": 36,
   "metadata": {},
   "outputs": [],
   "source": [
    "import string\n",
    "\n",
    "def isAnagram(s, t):\n",
    "    letter_hash = dict()\n",
    "    if len(s) != len(t):\n",
    "        return False\n",
    "    \n",
    "    for i in s:\n",
    "        if i.lower() not in letter_hash:\n",
    "            letter_hash[i.lower()] = 1\n",
    "        else:\n",
    "            letter_hash[i.lower()] += 1\n",
    "    \n",
    "    for j in t:\n",
    "        if j.lower() not in letter_hash:\n",
    "            return False\n",
    "        else:\n",
    "            letter_hash[j.lower()] -= 1\n",
    "\n",
    "    return any(letter_hash.values()) == False\n",
    "    \n",
    "  "
   ]
  },
  {
   "cell_type": "code",
   "execution_count": 37,
   "metadata": {},
   "outputs": [
    {
     "name": "stdout",
     "output_type": "stream",
     "text": [
      "True\n",
      "False\n",
      "True\n",
      "False\n",
      "True\n"
     ]
    }
   ],
   "source": [
    " \n",
    "# Test case 1\n",
    "s1 = \"listen\"\n",
    "t1 = \"silent\"\n",
    "print(isAnagram(s1, t1))  # Expected output: True\n",
    "\n",
    "# Test case 2\n",
    "s2 = \"hello\"\n",
    "t2 = \"world\"\n",
    "print(isAnagram(s2, t2))  # Expected output: False\n",
    "\n",
    "# Test case 3\n",
    "s3 = \"anagram\"\n",
    "t3 = \"nagaram\"\n",
    "print(isAnagram(s3, t3))  # Expected output: True\n",
    "\n",
    "# Test case 4\n",
    "s4 = \"rat\"\n",
    "t4 = \"car\"\n",
    "print(isAnagram(s4, t4))  # Expected output: False\n",
    "\n",
    "# Test case 5\n",
    "s5 = \"\"\n",
    "t5 = \"\"\n",
    "print(isAnagram(s5, t5))  # Expected output: True\n"
   ]
  },
  {
   "cell_type": "code",
   "execution_count": 38,
   "metadata": {},
   "outputs": [
    {
     "name": "stdout",
     "output_type": "stream",
     "text": [
      "Test case 1: True\n",
      "Test case 2: True\n",
      "Test case 3: True\n",
      "Test case 4: True\n"
     ]
    }
   ],
   "source": [
    "class Solution:\n",
    "  def shortestDistance(self, words, word1, word2):\n",
    "    # TODO: Write your code here\n",
    "    \n",
    "    words_hash = {}\n",
    "    for i in range(len(words)):\n",
    "        if words[i] == word1 or words[i] == word2:\n",
    "            words_hash[words[i]] = i\n",
    "    \n",
    "    return abs(words_hash[word1] - words_hash[word2])\n",
    "    \n",
    "    \n",
    "\n",
    "if __name__ == \"__main__\":\n",
    "  solution = Solution()\n",
    "\n",
    "  # Test case 1\n",
    "  words1 = [\"the\", \"quick\", \"brown\", \"fox\", \"jumps\", \"over\", \"the\", \"lazy\", \"dog\"]\n",
    "  word11 = \"fox\"\n",
    "  word21 = \"dog\"\n",
    "  expected_output1 = 5\n",
    "  actual_output1 = solution.shortestDistance(words1, word11, word21)\n",
    "  print(\"Test case 1:\", expected_output1 == actual_output1)\n",
    "\n",
    "  # Test case 2\n",
    "  words2 = [\"a\", \"b\", \"c\", \"d\", \"a\", \"b\"]\n",
    "  word12 = \"a\"\n",
    "  word22 = \"b\"\n",
    "  expected_output2 = 1\n",
    "  actual_output2 = solution.shortestDistance(words2, word12, word22)\n",
    "  print(\"Test case 2:\", expected_output2 == actual_output2)\n",
    "\n",
    "  # Test case 3\n",
    "  words3 = [\"a\", \"c\", \"d\", \"b\", \"a\"]\n",
    "  word13 = \"a\"\n",
    "  word23 = \"b\"\n",
    "  expected_output3 = 1\n",
    "  actual_output3 = solution.shortestDistance(words3, word13, word23)\n",
    "  print(\"Test case 3:\", expected_output3 == actual_output3)\n",
    "\n",
    "  # Test case 4\n",
    "  words4 = [\"a\", \"b\", \"c\", \"d\", \"e\"]\n",
    "  word14 = \"a\"\n",
    "  word24 = \"e\"\n",
    "  expected_output4 = 4\n",
    "  actual_output4 = solution.shortestDistance(words4, word14, word24)\n",
    "  print(\"Test case 4:\", expected_output4 == actual_output4)    \n"
   ]
  },
  {
   "cell_type": "code",
   "execution_count": 43,
   "metadata": {},
   "outputs": [],
   "source": [
    "def numGoodPairs(nums):\n",
    "    pairCount = 0\n",
    "    map = {}\n",
    "    for n in nums:\n",
    "        map[n] = map.get(n, 0) + 1 # increment the count of 'n' in the map\n",
    "        # every new occurrence of a number can be paired with every previous occurrence\n",
    "        # so if a number has already appeared 'p' times, we will have 'p-1' new pairs\n",
    "        pairCount += map[n] - 1\n",
    "        print(map, pairCount)\n",
    "        \n",
    "    return pairCount"
   ]
  },
  {
   "cell_type": "code",
   "execution_count": 44,
   "metadata": {},
   "outputs": [
    {
     "name": "stdout",
     "output_type": "stream",
     "text": [
      "{1: 1} 0\n",
      "{1: 1, 2: 1} 0\n",
      "{1: 1, 2: 1, 3: 1} 0\n",
      "{1: 2, 2: 1, 3: 1} 1\n",
      "{1: 3, 2: 1, 3: 1} 3\n",
      "{1: 3, 2: 1, 3: 2} 4\n",
      "Result 1: 4 (Expected: 4)\n",
      "{1: 1} 0\n",
      "{1: 2} 1\n",
      "{1: 3} 3\n",
      "{1: 4} 6\n",
      "Result 2: 6 (Expected: 6)\n",
      "{1: 1} 0\n",
      "{1: 1, 2: 1} 0\n",
      "{1: 1, 2: 1, 3: 1} 0\n",
      "Result 3: 0 (Expected: 0)\n"
     ]
    }
   ],
   "source": [
    "\n",
    "if __name__ == '__main__':\n",
    "  nums1 = [1, 2, 3, 1, 1, 3]\n",
    "  result1 = numGoodPairs(nums1)\n",
    "  print(\"Result 1:\", result1, \"(Expected: 4)\")\n",
    "\n",
    "  nums2 = [1, 1, 1, 1]\n",
    "  result2 = numGoodPairs(nums2)\n",
    "  print(\"Result 2:\", result2, \"(Expected: 6)\")\n",
    "\n",
    "  nums3 = [1, 2, 3]\n",
    "  result3 = numGoodPairs(nums3)\n",
    "  print(\"Result 3:\", result3, \"(Expected: 0)\")\n"
   ]
  },
  {
   "cell_type": "code",
   "execution_count": null,
   "metadata": {},
   "outputs": [],
   "source": []
  }
 ],
 "metadata": {
  "kernelspec": {
   "display_name": "Python 3",
   "language": "python",
   "name": "python3"
  },
  "language_info": {
   "codemirror_mode": {
    "name": "ipython",
    "version": 3
   },
   "file_extension": ".py",
   "mimetype": "text/x-python",
   "name": "python",
   "nbconvert_exporter": "python",
   "pygments_lexer": "ipython3",
   "version": "3.9.13"
  },
  "orig_nbformat": 4,
  "vscode": {
   "interpreter": {
    "hash": "7b81e634707a2e4135bf890680c8c35ed880de27576c789347cd579c6a5c7d0d"
   }
  }
 },
 "nbformat": 4,
 "nbformat_minor": 2
}
